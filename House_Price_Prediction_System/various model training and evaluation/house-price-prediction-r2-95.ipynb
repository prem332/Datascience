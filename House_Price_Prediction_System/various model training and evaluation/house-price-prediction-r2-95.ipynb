version https://git-lfs.github.com/spec/v1
oid sha256:49936cc4e5f7057e6769adaa46777ec874a16c1befffc992bf521d2307c2813c
size 124010
